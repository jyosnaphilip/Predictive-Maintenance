{
 "cells": [
  {
   "cell_type": "code",
   "execution_count": 116,
   "id": "9d8d72fd-4c5b-4c8e-b9ea-4b51b071db32",
   "metadata": {},
   "outputs": [],
   "source": [
    "import numpy as np\n",
    "import pandas as pd\n",
    "import warnings\n",
    "warnings.filterwarnings(\"ignore\")\n",
    "\n",
    "from sklearn.model_selection import GroupShuffleSplit, GridSearchCV\n",
    "from sklearn.linear_model import LinearRegression, LogisticRegression, SGDRegressor, Lasso\n",
    "from sklearn.metrics import mean_squared_error, r2_score#, root_mean_squared_error\n",
    "from sklearn.ensemble import RandomForestRegressor\n",
    "\n",
    "import matplotlib.pyplot as plt"
   ]
  },
  {
   "cell_type": "code",
   "execution_count": 47,
   "id": "49975be4-3a04-4c19-814d-54b31f5ffc19",
   "metadata": {},
   "outputs": [],
   "source": [
    "xtrain_data = pd.read_csv(r'E:\\Nextstep\\PdM\\Predictive-Maintenance\\Datasets\\ForModelDev\\XTrain.csv')\n",
    "ytrain_data = pd.read_csv(r'E:\\Nextstep\\PdM\\Predictive-Maintenance\\Datasets\\ForModelDev\\YTrain.csv')\n",
    "engine_data = np.array(pd.read_csv(r'E:\\Nextstep\\PdM\\Predictive-Maintenance\\Datasets\\ForModelDev\\Engine.csv'))\n",
    "xtest_data = pd.read_csv(r'E:\\Nextstep\\PdM\\Predictive-Maintenance\\Datasets\\ForModelDev\\XTest.csv')\n",
    "ytest_data  = pd.read_csv(r'E:\\Nextstep\\PdM\\Predictive-Maintenance\\Datasets\\ForModelDev\\Ytest.csv')\n",
    "engine_test_data = pd.read_csv(r'E:\\Nextstep\\PdM\\Predictive-Maintenance\\Datasets\\ForModelDev\\Engine_test.csv')"
   ]
  },
  {
   "cell_type": "code",
   "execution_count": 4,
   "id": "6199e0c0-b4b6-466f-ae90-0430d1b07910",
   "metadata": {},
   "outputs": [],
   "source": []
  },
  {
   "cell_type": "code",
   "execution_count": 5,
   "id": "0ad5ad0f-77ed-4c7a-b285-fb87968c97a7",
   "metadata": {},
   "outputs": [
    {
     "name": "stdout",
     "output_type": "stream",
     "text": [
      "Fold 0:\n",
      "  Train: index=[  192   193   194 ... 20628 20629 20630], group=[  2   3   4   6   7   8   9  12  14  15  17  18  20  21  22  24  25  26\n",
      "  28  29  30  33  35  36  37  38  39  42  44  47  48  49  50  51  52  53\n",
      "  55  57  58  59  60  61  62  63  64  65  66  67  68  69  72  75  76  79\n",
      "  80  82  83  85  86  87  88  90  92  93  94  95  96  98  99 100]\n",
      "  Test:  index=[    0     1     2 ... 20087 20088 20089], group=[ 1  5 10 11 13 16 19 23 27 31 32 34 40 41 43 45 46 54 56 70 71 73 74 77\n",
      " 78 81 84 89 91 97]\n"
     ]
    }
   ],
   "source": [
    "for i, (train_index, val_index) in enumerate(gss.split(xtrain_data, ytrain_data, engine_data)):\n",
    "    print(f\"Fold {i}:\")\n",
    "    print(f\"  Train: index={train_index}, group={np.unique(engine_data[train_index])}\")\n",
    "    print(f\"  Test:  index={val_index}, group={np.unique(engine_data[val_index])}\")"
   ]
  },
  {
   "cell_type": "markdown",
   "id": "2e568ae3-bbb1-4427-92df-77f0514465e2",
   "metadata": {},
   "source": [
    "# Model without CV"
   ]
  },
  {
   "cell_type": "code",
   "execution_count": 11,
   "id": "394b0d51-171b-421d-88ed-a2c943a06d99",
   "metadata": {},
   "outputs": [],
   "source": [
    "lr = LinearRegression()"
   ]
  },
  {
   "cell_type": "code",
   "execution_count": 18,
   "id": "0adfe174-d287-48cd-b264-43ebb9a20e2e",
   "metadata": {},
   "outputs": [
    {
     "name": "stdout",
     "output_type": "stream",
     "text": [
      "RMSE: 43.18821684634371\n",
      "R2: 0.4637682883334361\n"
     ]
    }
   ],
   "source": [
    "lr.fit(xtrain_data, ytrain_data)\n",
    "ypred = lr.predict(xtest_data)\n",
    "print('RMSE: ' + str(np.sqrt(mean_squared_error(ytest_data, ypred))))\n",
    "print('R2: ' + str(r2_score(ytest_data, ypred)))"
   ]
  },
  {
   "cell_type": "markdown",
   "id": "36e12b5b-f44c-42c7-8f51-f32b33e2a8d9",
   "metadata": {},
   "source": [
    "# Model with Cross Validation (KFold)"
   ]
  },
  {
   "cell_type": "code",
   "execution_count": 22,
   "id": "37727a02-0a1e-4447-ab76-68853e997b50",
   "metadata": {},
   "outputs": [
    {
     "name": "stdout",
     "output_type": "stream",
     "text": [
      "Set 0 RMSE: 34.69545781253898 R2: 0.7165034406492117\n",
      "Set 1 RMSE: 42.38106877974548 R2: 0.6181809709321486\n",
      "Set 2 RMSE: 34.9009602973066 R2: 0.714542256203726\n",
      "Set 3 RMSE: 38.29019079301779 R2: 0.6903120066313061\n",
      "Set 4 RMSE: 40.22812008666501 R2: 0.6725697396081816\n",
      "Set 5 RMSE: 44.022622637337506 R2: 0.5654893719163739\n",
      "Set 6 RMSE: 40.47104331073149 R2: 0.6727292940515437\n",
      "Set 7 RMSE: 39.06410095528146 R2: 0.6385829167220032\n",
      "Set 8 RMSE: 51.21334082166055 R2: 0.5287505513817532\n",
      "Set 9 RMSE: 41.62423372385186 R2: 0.6316218058788606\n"
     ]
    }
   ],
   "source": [
    "gss = GroupShuffleSplit(n_splits = 10, train_size = 0.7, random_state = 42) #n_splits refers to number of folds required\n",
    "for i, (train_index, val_index) in enumerate(gss.split(xtrain_data, ytrain_data, engine_data)):\n",
    "    xtrain = xtrain_data.loc[train_index]\n",
    "    ytrain = ytrain_data.loc[train_index]\n",
    "    xval = xtrain_data.loc[val_index]\n",
    "    yval = ytrain_data.loc[val_index]\n",
    "    lr.fit(xtrain, ytrain)\n",
    "    ypred = lr.predict(xval)\n",
    "    print('Set ' + str(i), end = ' ')\n",
    "    print('RMSE: ' + str(np.sqrt(mean_squared_error(yval, ypred))), end = ' ')\n",
    "    print('R2: ' + str(r2_score(yval, ypred)))"
   ]
  },
  {
   "cell_type": "markdown",
   "id": "c83e05bc-c440-4d0a-a1e4-d338b7de9c96",
   "metadata": {},
   "source": [
    "# Model with Grid Search CV"
   ]
  },
  {
   "cell_type": "code",
   "execution_count": 41,
   "id": "ef1aa6f1-a78e-4b7b-b593-3890163bb73e",
   "metadata": {},
   "outputs": [
    {
     "data": {
      "text/html": [
       "<style>#sk-container-id-3 {color: black;background-color: white;}#sk-container-id-3 pre{padding: 0;}#sk-container-id-3 div.sk-toggleable {background-color: white;}#sk-container-id-3 label.sk-toggleable__label {cursor: pointer;display: block;width: 100%;margin-bottom: 0;padding: 0.3em;box-sizing: border-box;text-align: center;}#sk-container-id-3 label.sk-toggleable__label-arrow:before {content: \"▸\";float: left;margin-right: 0.25em;color: #696969;}#sk-container-id-3 label.sk-toggleable__label-arrow:hover:before {color: black;}#sk-container-id-3 div.sk-estimator:hover label.sk-toggleable__label-arrow:before {color: black;}#sk-container-id-3 div.sk-toggleable__content {max-height: 0;max-width: 0;overflow: hidden;text-align: left;background-color: #f0f8ff;}#sk-container-id-3 div.sk-toggleable__content pre {margin: 0.2em;color: black;border-radius: 0.25em;background-color: #f0f8ff;}#sk-container-id-3 input.sk-toggleable__control:checked~div.sk-toggleable__content {max-height: 200px;max-width: 100%;overflow: auto;}#sk-container-id-3 input.sk-toggleable__control:checked~label.sk-toggleable__label-arrow:before {content: \"▾\";}#sk-container-id-3 div.sk-estimator input.sk-toggleable__control:checked~label.sk-toggleable__label {background-color: #d4ebff;}#sk-container-id-3 div.sk-label input.sk-toggleable__control:checked~label.sk-toggleable__label {background-color: #d4ebff;}#sk-container-id-3 input.sk-hidden--visually {border: 0;clip: rect(1px 1px 1px 1px);clip: rect(1px, 1px, 1px, 1px);height: 1px;margin: -1px;overflow: hidden;padding: 0;position: absolute;width: 1px;}#sk-container-id-3 div.sk-estimator {font-family: monospace;background-color: #f0f8ff;border: 1px dotted black;border-radius: 0.25em;box-sizing: border-box;margin-bottom: 0.5em;}#sk-container-id-3 div.sk-estimator:hover {background-color: #d4ebff;}#sk-container-id-3 div.sk-parallel-item::after {content: \"\";width: 100%;border-bottom: 1px solid gray;flex-grow: 1;}#sk-container-id-3 div.sk-label:hover label.sk-toggleable__label {background-color: #d4ebff;}#sk-container-id-3 div.sk-serial::before {content: \"\";position: absolute;border-left: 1px solid gray;box-sizing: border-box;top: 0;bottom: 0;left: 50%;z-index: 0;}#sk-container-id-3 div.sk-serial {display: flex;flex-direction: column;align-items: center;background-color: white;padding-right: 0.2em;padding-left: 0.2em;position: relative;}#sk-container-id-3 div.sk-item {position: relative;z-index: 1;}#sk-container-id-3 div.sk-parallel {display: flex;align-items: stretch;justify-content: center;background-color: white;position: relative;}#sk-container-id-3 div.sk-item::before, #sk-container-id-3 div.sk-parallel-item::before {content: \"\";position: absolute;border-left: 1px solid gray;box-sizing: border-box;top: 0;bottom: 0;left: 50%;z-index: -1;}#sk-container-id-3 div.sk-parallel-item {display: flex;flex-direction: column;z-index: 1;position: relative;background-color: white;}#sk-container-id-3 div.sk-parallel-item:first-child::after {align-self: flex-end;width: 50%;}#sk-container-id-3 div.sk-parallel-item:last-child::after {align-self: flex-start;width: 50%;}#sk-container-id-3 div.sk-parallel-item:only-child::after {width: 0;}#sk-container-id-3 div.sk-dashed-wrapped {border: 1px dashed gray;margin: 0 0.4em 0.5em 0.4em;box-sizing: border-box;padding-bottom: 0.4em;background-color: white;}#sk-container-id-3 div.sk-label label {font-family: monospace;font-weight: bold;display: inline-block;line-height: 1.2em;}#sk-container-id-3 div.sk-label-container {text-align: center;}#sk-container-id-3 div.sk-container {/* jupyter's `normalize.less` sets `[hidden] { display: none; }` but bootstrap.min.css set `[hidden] { display: none !important; }` so we also need the `!important` here to be able to override the default hidden behavior on the sphinx rendered scikit-learn.org. See: https://github.com/scikit-learn/scikit-learn/issues/21755 */display: inline-block !important;position: relative;}#sk-container-id-3 div.sk-text-repr-fallback {display: none;}</style><div id=\"sk-container-id-3\" class=\"sk-top-container\"><div class=\"sk-text-repr-fallback\"><pre>GridSearchCV(cv=GroupShuffleSplit(n_splits=10, random_state=42, test_size=None,\n",
       "         train_size=0.7),\n",
       "             estimator=LinearRegression(),\n",
       "             param_grid={&#x27;fit_intercept&#x27;: [True, False]}, refit=&#x27;r2&#x27;,\n",
       "             scoring=[&#x27;r2&#x27;, &#x27;neg_root_mean_squared_error&#x27;])</pre><b>In a Jupyter environment, please rerun this cell to show the HTML representation or trust the notebook. <br />On GitHub, the HTML representation is unable to render, please try loading this page with nbviewer.org.</b></div><div class=\"sk-container\" hidden><div class=\"sk-item sk-dashed-wrapped\"><div class=\"sk-label-container\"><div class=\"sk-label sk-toggleable\"><input class=\"sk-toggleable__control sk-hidden--visually\" id=\"sk-estimator-id-5\" type=\"checkbox\" ><label for=\"sk-estimator-id-5\" class=\"sk-toggleable__label sk-toggleable__label-arrow\">GridSearchCV</label><div class=\"sk-toggleable__content\"><pre>GridSearchCV(cv=GroupShuffleSplit(n_splits=10, random_state=42, test_size=None,\n",
       "         train_size=0.7),\n",
       "             estimator=LinearRegression(),\n",
       "             param_grid={&#x27;fit_intercept&#x27;: [True, False]}, refit=&#x27;r2&#x27;,\n",
       "             scoring=[&#x27;r2&#x27;, &#x27;neg_root_mean_squared_error&#x27;])</pre></div></div></div><div class=\"sk-parallel\"><div class=\"sk-parallel-item\"><div class=\"sk-item\"><div class=\"sk-label-container\"><div class=\"sk-label sk-toggleable\"><input class=\"sk-toggleable__control sk-hidden--visually\" id=\"sk-estimator-id-6\" type=\"checkbox\" ><label for=\"sk-estimator-id-6\" class=\"sk-toggleable__label sk-toggleable__label-arrow\">estimator: LinearRegression</label><div class=\"sk-toggleable__content\"><pre>LinearRegression()</pre></div></div></div><div class=\"sk-serial\"><div class=\"sk-item\"><div class=\"sk-estimator sk-toggleable\"><input class=\"sk-toggleable__control sk-hidden--visually\" id=\"sk-estimator-id-7\" type=\"checkbox\" ><label for=\"sk-estimator-id-7\" class=\"sk-toggleable__label sk-toggleable__label-arrow\">LinearRegression</label><div class=\"sk-toggleable__content\"><pre>LinearRegression()</pre></div></div></div></div></div></div></div></div></div></div>"
      ],
      "text/plain": [
       "GridSearchCV(cv=GroupShuffleSplit(n_splits=10, random_state=42, test_size=None,\n",
       "         train_size=0.7),\n",
       "             estimator=LinearRegression(),\n",
       "             param_grid={'fit_intercept': [True, False]}, refit='r2',\n",
       "             scoring=['r2', 'neg_root_mean_squared_error'])"
      ]
     },
     "execution_count": 41,
     "metadata": {},
     "output_type": "execute_result"
    }
   ],
   "source": [
    "gss = GroupShuffleSplit(n_splits = 10, train_size = 0.7, random_state = 42)\n",
    "params = {'fit_intercept': [True, False]}\n",
    "gsv = GridSearchCV(lr, param_grid = params, scoring=['r2','neg_root_mean_squared_error'], cv = gss, refit = 'r2')\n",
    "gsv.fit(xtrain_data, ytrain_data, groups = engine_data)"
   ]
  },
  {
   "cell_type": "code",
   "execution_count": 34,
   "id": "2265b88d-f894-4a50-ab1a-d8b9d8d7ef3b",
   "metadata": {},
   "outputs": [
    {
     "data": {
      "text/plain": [
       "{'mean_fit_time': array([0.03939672, 0.03279176]),\n",
       " 'std_fit_time': array([0.01045242, 0.00626655]),\n",
       " 'mean_score_time': array([0.00457768, 0.003213  ]),\n",
       " 'std_score_time': array([0.00699832, 0.00605364]),\n",
       " 'param_fit_intercept': masked_array(data=[True, False],\n",
       "              mask=[False, False],\n",
       "        fill_value='?',\n",
       "             dtype=object),\n",
       " 'params': [{'fit_intercept': True}, {'fit_intercept': False}],\n",
       " 'split0_test_r2': array([0.71650344, 0.71589545]),\n",
       " 'split1_test_r2': array([0.61818097, 0.61763629]),\n",
       " 'split2_test_r2': array([0.71454226, 0.71448165]),\n",
       " 'split3_test_r2': array([0.69031201, 0.68966182]),\n",
       " 'split4_test_r2': array([0.67256974, 0.67181433]),\n",
       " 'split5_test_r2': array([0.56548937, 0.5669739 ]),\n",
       " 'split6_test_r2': array([0.67272929, 0.67204005]),\n",
       " 'split7_test_r2': array([0.63858292, 0.64025237]),\n",
       " 'split8_test_r2': array([0.52875055, 0.52621241]),\n",
       " 'split9_test_r2': array([0.63162181, 0.63127943]),\n",
       " 'mean_test_r2': array([0.64492824, 0.64462477]),\n",
       " 'std_test_r2': array([0.05857157, 0.05869875]),\n",
       " 'rank_test_r2': array([1, 2]),\n",
       " 'split0_test_neg_root_mean_squared_error': array([-34.69545781, -34.73264207]),\n",
       " 'split1_test_neg_root_mean_squared_error': array([-42.38106878, -42.41128709]),\n",
       " 'split2_test_neg_root_mean_squared_error': array([-34.9009603 , -34.90466514]),\n",
       " 'split3_test_neg_root_mean_squared_error': array([-38.29019079, -38.33036455]),\n",
       " 'split4_test_neg_root_mean_squared_error': array([-40.22812009, -40.27449808]),\n",
       " 'split5_test_neg_root_mean_squared_error': array([-44.02262264, -43.94735547]),\n",
       " 'split6_test_neg_root_mean_squared_error': array([-40.47104331, -40.51363761]),\n",
       " 'split7_test_neg_root_mean_squared_error': array([-39.06410096, -38.97377429]),\n",
       " 'split8_test_neg_root_mean_squared_error': array([-51.21334082, -51.35107247]),\n",
       " 'split9_test_neg_root_mean_squared_error': array([-41.62423372, -41.64357238]),\n",
       " 'mean_test_neg_root_mean_squared_error': array([-40.68911392, -40.70828692]),\n",
       " 'std_test_neg_root_mean_squared_error': array([4.51321391, 4.53668254]),\n",
       " 'rank_test_neg_root_mean_squared_error': array([1, 2])}"
      ]
     },
     "execution_count": 34,
     "metadata": {},
     "output_type": "execute_result"
    }
   ],
   "source": [
    "gsv.cv_results_"
   ]
  },
  {
   "cell_type": "code",
   "execution_count": 39,
   "id": "69b06620-6066-46ad-8225-7d367c564433",
   "metadata": {},
   "outputs": [
    {
     "data": {
      "text/plain": [
       "(0, {'fit_intercept': True})"
      ]
     },
     "execution_count": 39,
     "metadata": {},
     "output_type": "execute_result"
    }
   ],
   "source": [
    "gsv.best_index_, gsv.best_params_"
   ]
  },
  {
   "cell_type": "code",
   "execution_count": 42,
   "id": "c0ced970-1f8e-4192-9491-68c91c352c20",
   "metadata": {},
   "outputs": [
    {
     "name": "stdout",
     "output_type": "stream",
     "text": [
      "RMSE: 43.18821684634371\n",
      "R2: 0.4637682883334361\n"
     ]
    }
   ],
   "source": [
    "best_model = gsv.best_estimator_\n",
    "ypred = best_model.predict(xtest_data)\n",
    "print('RMSE: ' + str(np.sqrt(mean_squared_error(ytest_data, ypred))))\n",
    "print('R2: ' + str(r2_score(ytest_data, ypred)))"
   ]
  },
  {
   "cell_type": "code",
   "execution_count": 76,
   "id": "47eecb03-d267-4b8f-87ff-d7764dd745f4",
   "metadata": {},
   "outputs": [
    {
     "data": {
      "text/html": [
       "<div>\n",
       "<style scoped>\n",
       "    .dataframe tbody tr th:only-of-type {\n",
       "        vertical-align: middle;\n",
       "    }\n",
       "\n",
       "    .dataframe tbody tr th {\n",
       "        vertical-align: top;\n",
       "    }\n",
       "\n",
       "    .dataframe thead th {\n",
       "        text-align: right;\n",
       "    }\n",
       "</style>\n",
       "<table border=\"1\" class=\"dataframe\">\n",
       "  <thead>\n",
       "    <tr style=\"text-align: right;\">\n",
       "      <th></th>\n",
       "      <th>error</th>\n",
       "    </tr>\n",
       "    <tr>\n",
       "      <th>p_dist</th>\n",
       "      <th></th>\n",
       "    </tr>\n",
       "  </thead>\n",
       "  <tbody>\n",
       "    <tr>\n",
       "      <th>0.0</th>\n",
       "      <td>8.139255</td>\n",
       "    </tr>\n",
       "    <tr>\n",
       "      <th>0.1</th>\n",
       "      <td>27.944977</td>\n",
       "    </tr>\n",
       "    <tr>\n",
       "      <th>0.2</th>\n",
       "      <td>37.663110</td>\n",
       "    </tr>\n",
       "    <tr>\n",
       "      <th>0.3</th>\n",
       "      <td>40.850744</td>\n",
       "    </tr>\n",
       "    <tr>\n",
       "      <th>0.4</th>\n",
       "      <td>38.498147</td>\n",
       "    </tr>\n",
       "    <tr>\n",
       "      <th>0.5</th>\n",
       "      <td>37.525783</td>\n",
       "    </tr>\n",
       "    <tr>\n",
       "      <th>0.6</th>\n",
       "      <td>38.232715</td>\n",
       "    </tr>\n",
       "    <tr>\n",
       "      <th>0.7</th>\n",
       "      <td>40.189373</td>\n",
       "    </tr>\n",
       "    <tr>\n",
       "      <th>0.8</th>\n",
       "      <td>44.318086</td>\n",
       "    </tr>\n",
       "    <tr>\n",
       "      <th>0.9</th>\n",
       "      <td>50.000065</td>\n",
       "    </tr>\n",
       "    <tr>\n",
       "      <th>1.0</th>\n",
       "      <td>57.177813</td>\n",
       "    </tr>\n",
       "  </tbody>\n",
       "</table>\n",
       "</div>"
      ],
      "text/plain": [
       "            error\n",
       "p_dist           \n",
       "0.0      8.139255\n",
       "0.1     27.944977\n",
       "0.2     37.663110\n",
       "0.3     40.850744\n",
       "0.4     38.498147\n",
       "0.5     37.525783\n",
       "0.6     38.232715\n",
       "0.7     40.189373\n",
       "0.8     44.318086\n",
       "0.9     50.000065\n",
       "1.0     57.177813"
      ]
     },
     "execution_count": 76,
     "metadata": {},
     "output_type": "execute_result"
    }
   ],
   "source": [
    "dt = {'Engine': np.array(engine_test_data['Engine']), 'ytrue': np.array(ytest_data['Remaining Cycles']), 'ypred': ypred.flatten()}\n",
    "FinalData = pd.DataFrame(dt)\n",
    "max_cycles = FinalData[['Engine', 'ytrue']].groupby('Engine').max()\n",
    "FinalData = FinalData.merge(max_cycles, on='Engine')\n",
    "FinalData = FinalData.rename(columns={\"ytrue_x\": \"ytrue\", \"ytrue_y\": \"max_cycles\"})\n",
    "FinalData['p_dist'] = np.round(FinalData['ytrue'] / FinalData['max_cycles'], 1)\n",
    "FinalData['error'] = np.square(FinalData['ytrue'] - FinalData['ypred'])\n",
    "FinalData[['p_dist', 'error']].groupby('p_dist').mean().apply(lambda x: np.sqrt(x))"
   ]
  },
  {
   "cell_type": "code",
   "execution_count": 95,
   "id": "6e4375b9-1b56-40d5-a983-9e19e940c1ef",
   "metadata": {},
   "outputs": [
    {
     "data": {
      "text/plain": [
       "<matplotlib.collections.PathCollection at 0x20421606d50>"
      ]
     },
     "execution_count": 95,
     "metadata": {},
     "output_type": "execute_result"
    },
    {
     "data": {
      "image/png": "[encoded data removed]",
      "text/plain": [
       "<Figure size 640x480 with 1 Axes>"
      ]
     },
     "metadata": {},
     "output_type": "display_data"
    }
   ],
   "source": [
    "plt.scatter(FinalData['ytrue'], FinalData['ypred'])"
   ]
  },
  {
   "cell_type": "markdown",
   "id": "a64a899d-318c-482e-9150-27dca3de26aa",
   "metadata": {},
   "source": [
    "# Model with Grid Search CV without group shuffle"
   ]
  },
  {
   "cell_type": "code",
   "execution_count": null,
   "id": "d27726af-b28c-4811-b2cd-f471b27f7a1a",
   "metadata": {},
   "outputs": [],
   "source": [
    "params = {'fit_intercept': [True, False]}\n",
    "gsv_kfold = GridSearchCV(lr, param_grid = params, scoring=['r2','neg_root_mean_squared_error'], cv = 10, refit = 'r2')\n",
    "gsv_kfold.fit(xtrain_data, ytrain_data, groups = engine_data)\n",
    "gsv_kfold.cv_results_"
   ]
  },
  {
   "cell_type": "code",
   "execution_count": 74,
   "id": "f2697e0b-452b-4aa2-8488-9c2c66ae37ac",
   "metadata": {},
   "outputs": [
    {
     "data": {
      "text/plain": [
       "(0.6432026812963676, 0)"
      ]
     },
     "execution_count": 74,
     "metadata": {},
     "output_type": "execute_result"
    }
   ],
   "source": [
    "gsv_kfold.best_score_, gsv_kfold.best_index_"
   ]
  },
  {
   "cell_type": "code",
   "execution_count": 75,
   "id": "90706b0b-f859-4636-86d7-501def2bbf84",
   "metadata": {},
   "outputs": [
    {
     "name": "stdout",
     "output_type": "stream",
     "text": [
      "RMSE: 43.18821684634371\n",
      "R2: 0.4637682883334361\n"
     ]
    }
   ],
   "source": [
    "best_model_kfold = gsv_kfold.best_estimator_\n",
    "ypred = best_model_kfold.predict(xtest_data)\n",
    "print('RMSE: ' + str(np.sqrt(mean_squared_error(ytest_data, ypred))))\n",
    "print('R2: ' + str(r2_score(ytest_data, ypred)))"
   ]
  },
  {
   "cell_type": "markdown",
   "id": "1eabd608-171a-438f-9137-8587284cb879",
   "metadata": {},
   "source": [
    "# Linear Reg with log Transform"
   ]
  },
  {
   "cell_type": "code",
   "execution_count": 110,
   "id": "e6f63f6b-fc80-4b4d-bd8f-c91e9c91922b",
   "metadata": {},
   "outputs": [
    {
     "name": "stdout",
     "output_type": "stream",
     "text": [
      "RMSE: 58.46822333447496\n",
      "R2: 0.01720770830228946\n"
     ]
    }
   ],
   "source": [
    "ytrain = ytrain_data.copy()\n",
    "ytrain[ytrain == 0] = 1\n",
    "ytest = ytest_data.copy()\n",
    "ytest[ytest == 0] = 1\n",
    "lr.fit(xtrain_data, np.round(np.log10(ytrain),3))\n",
    "ypred = np.round(np.power(10, lr.predict(xtest_data)),0)\n",
    "print('RMSE: ' + str(np.sqrt(mean_squared_error((ytest), ypred))))\n",
    "print('R2: ' + str(r2_score((ytest), ypred)))"
   ]
  },
  {
   "cell_type": "code",
   "execution_count": 111,
   "id": "9d255fc7-3b62-425e-bec1-a564e0e2d6fa",
   "metadata": {},
   "outputs": [
    {
     "data": {
      "text/plain": [
       "array([[290.],\n",
       "       [269.],\n",
       "       [215.],\n",
       "       ...,\n",
       "       [ 18.],\n",
       "       [ 17.],\n",
       "       [ 16.]])"
      ]
     },
     "execution_count": 111,
     "metadata": {},
     "output_type": "execute_result"
    }
   ],
   "source": [
    "ypred"
   ]
  },
  {
   "cell_type": "code",
   "execution_count": 113,
   "id": "ae3a0b81-f50b-419c-a52d-9de26c6b4e61",
   "metadata": {},
   "outputs": [
    {
     "data": {
      "text/plain": [
       "(array([ 596., 1177., 1828., 2952., 2884., 1975.,  978.,  453.,  174.,\n",
       "          79.]),\n",
       " array([  7. ,  40.3,  73.6, 106.9, 140.2, 173.5, 206.8, 240.1, 273.4,\n",
       "        306.7, 340. ]),\n",
       " <BarContainer object of 10 artists>)"
      ]
     },
     "execution_count": 113,
     "metadata": {},
     "output_type": "execute_result"
    },
    {
     "data": {
      "image/png": "[encoded data removed]",
      "text/plain": [
       "<Figure size 640x480 with 1 Axes>"
      ]
     },
     "metadata": {},
     "output_type": "display_data"
    }
   ],
   "source": [
    "plt.hist(ytest_data['Remaining Cycles'], bins = 10)"
   ]
  },
  {
   "cell_type": "markdown",
   "id": "a64d90b8-c100-4852-9d7b-fcab97f37442",
   "metadata": {},
   "source": [
    "# Logistic Regression"
   ]
  },
  {
   "cell_type": "code",
   "execution_count": 80,
   "id": "19a3b569-b71f-4c2e-940a-ebfbf0ba58e8",
   "metadata": {},
   "outputs": [
    {
     "name": "stdout",
     "output_type": "stream",
     "text": [
      "RMSE: 62.527156592519944\n",
      "R2: -0.12398187123691629\n"
     ]
    }
   ],
   "source": [
    "logr = LogisticRegression()\n",
    "logr.fit(xtrain_data, ytrain_data)\n",
    "ypred = logr.predict(xtest_data)\n",
    "print('RMSE: ' + str(np.sqrt(mean_squared_error(ytest_data, ypred))))\n",
    "print('R2: ' + str(r2_score(ytest_data, ypred)))"
   ]
  },
  {
   "cell_type": "markdown",
   "id": "cd27750f-3cc3-40bb-a277-3a6656c01ae9",
   "metadata": {},
   "source": [
    "# SGD Regression"
   ]
  },
  {
   "cell_type": "code",
   "execution_count": 84,
   "id": "bce7ebb9-d3ca-4705-93bb-f4dfb57c0796",
   "metadata": {},
   "outputs": [
    {
     "name": "stdout",
     "output_type": "stream",
     "text": [
      "RMSE: 848013098381.5271\n",
      "R2: -2.0674121676312383e+20\n"
     ]
    }
   ],
   "source": [
    "sgd = SGDRegressor(penalty=None)\n",
    "sgd.fit(xtrain_data, ytrain_data)\n",
    "ypred = sgd.predict(xtest_data)\n",
    "print('RMSE: ' + str(np.sqrt(mean_squared_error(ytest_data, ypred))))\n",
    "print('R2: ' + str(r2_score(ytest_data, ypred)))"
   ]
  },
  {
   "cell_type": "code",
   "execution_count": 88,
   "id": "688fadef-0642-4804-bbc3-5f759787dca1",
   "metadata": {},
   "outputs": [
    {
     "name": "stdout",
     "output_type": "stream",
     "text": [
      "RMSE: 43.33334070554943\n",
      "R2: 0.4601584720891071\n"
     ]
    }
   ],
   "source": [
    "las = Lasso()\n",
    "las.fit(xtrain_data, ytrain_data)\n",
    "ypred = las.predict(xtest_data)\n",
    "print('RMSE: ' + str(np.sqrt(mean_squared_error(ytest_data, ypred))))\n",
    "print('R2: ' + str(r2_score(ytest_data, ypred)))"
   ]
  },
  {
   "cell_type": "code",
   "execution_count": 89,
   "id": "496f9e5b-cd66-40ef-9892-b4c523ce2d08",
   "metadata": {},
   "outputs": [
    {
     "data": {
      "text/plain": [
       "{'mean_fit_time': array([1.83830428, 0.5906245 , 0.57380979, 0.54531724]),\n",
       " 'std_fit_time': array([0.54391385, 0.11151421, 0.35965967, 0.33995761]),\n",
       " 'mean_score_time': array([0.00797846, 0.00791543, 0.00156395, 0.00433559]),\n",
       " 'std_score_time': array([0.0068183 , 0.0079206 , 0.00469186, 0.00668981]),\n",
       " 'param_alpha': masked_array(data=[0.25, 0.5, 0.75, 1],\n",
       "              mask=[False, False, False, False],\n",
       "        fill_value='?',\n",
       "             dtype=object),\n",
       " 'params': [{'alpha': 0.25}, {'alpha': 0.5}, {'alpha': 0.75}, {'alpha': 1}],\n",
       " 'split0_test_r2': array([0.77951792, 0.78335632, 0.78380008, 0.78412452]),\n",
       " 'split1_test_r2': array([0.77983465, 0.78293439, 0.78391359, 0.78483678]),\n",
       " 'split2_test_r2': array([0.62435421, 0.62525461, 0.62548273, 0.62566733]),\n",
       " 'split3_test_r2': array([0.75822049, 0.75945056, 0.76017749, 0.76085289]),\n",
       " 'split4_test_r2': array([0.7995397 , 0.7980333 , 0.79764569, 0.7970962 ]),\n",
       " 'split5_test_r2': array([0.59884149, 0.60039701, 0.60199811, 0.60354447]),\n",
       " 'split6_test_r2': array([0.33630781, 0.33507772, 0.33332763, 0.33154494]),\n",
       " 'split7_test_r2': array([0.77246837, 0.77400842, 0.77466037, 0.77527506]),\n",
       " 'split8_test_r2': array([0.60761278, 0.61173079, 0.61209111, 0.61198556]),\n",
       " 'split9_test_r2': array([0.39903329, 0.39673294, 0.39461183, 0.39250205]),\n",
       " 'mean_test_r2': array([0.64557307, 0.64669761, 0.64677086, 0.64674298]),\n",
       " 'std_test_r2': array([0.15778685, 0.15889473, 0.15970487, 0.16049856]),\n",
       " 'rank_test_r2': array([4, 3, 1, 2]),\n",
       " 'split0_test_neg_root_mean_squared_error': array([-32.07763765, -31.79718963, -31.76460702, -31.74076461]),\n",
       " 'split1_test_neg_root_mean_squared_error': array([-30.0354859 , -29.82329894, -29.75595568, -29.69232372]),\n",
       " 'split2_test_neg_root_mean_squared_error': array([-35.20129098, -35.1590778 , -35.14837486, -35.13971157]),\n",
       " 'split3_test_neg_root_mean_squared_error': array([-27.56393169, -27.49372558, -27.45215192, -27.41346872]),\n",
       " 'split4_test_neg_root_mean_squared_error': array([-27.82308755, -27.92743295, -27.95421923, -27.99214818]),\n",
       " 'split5_test_neg_root_mean_squared_error': array([-40.72661352, -40.64757677, -40.56606325, -40.48718058]),\n",
       " 'split6_test_neg_root_mean_squared_error': array([-68.38254027, -68.44588149, -68.53589762, -68.62746941]),\n",
       " 'split7_test_neg_root_mean_squared_error': array([-29.29214206, -29.19284177, -29.15070293, -29.11091681]),\n",
       " 'split8_test_neg_root_mean_squared_error': array([-48.91631067, -48.65895076, -48.63636749, -48.64298422]),\n",
       " 'split9_test_neg_root_mean_squared_error': array([-61.31331943, -61.43055336, -61.53845477, -61.64559222]),\n",
       " 'mean_test_neg_root_mean_squared_error': array([-40.13323597, -40.05765291, -40.05027948, -40.04925601]),\n",
       " 'std_test_neg_root_mean_squared_error': array([13.93682679, 13.98940546, 14.03439154, 14.07922192]),\n",
       " 'rank_test_neg_root_mean_squared_error': array([4, 3, 2, 1])}"
      ]
     },
     "execution_count": 89,
     "metadata": {},
     "output_type": "execute_result"
    }
   ],
   "source": [
    "params = {'alpha': [0.25, 0.5, 0.75, 1]}\n",
    "gsv_kfold = GridSearchCV(las, param_grid = params, scoring=['r2','neg_root_mean_squared_error'], cv = 10, refit = 'r2')\n",
    "gsv_kfold.fit(xtrain_data, ytrain_data, groups = engine_data)\n",
    "gsv_kfold.cv_results_"
   ]
  },
  {
   "cell_type": "code",
   "execution_count": 90,
   "id": "bcf3500b-a39c-4b4d-8aca-ee22609370e2",
   "metadata": {},
   "outputs": [
    {
     "name": "stdout",
     "output_type": "stream",
     "text": [
      "RMSE: 43.320364713377025\n",
      "R2: 0.460481730371077\n"
     ]
    }
   ],
   "source": [
    "best_las = gsv_kfold.best_estimator_\n",
    "ypred = best_las.predict(xtest_data)\n",
    "print('RMSE: ' + str(np.sqrt(mean_squared_error(ytest_data, ypred))))\n",
    "print('R2: ' + str(r2_score(ytest_data, ypred)))"
   ]
  },
  {
   "cell_type": "code",
   "execution_count": 91,
   "id": "d675326e-f530-4e17-8853-f76b2fce07e5",
   "metadata": {},
   "outputs": [
    {
     "data": {
      "text/plain": [
       "{'alpha': 0.75}"
      ]
     },
     "execution_count": 91,
     "metadata": {},
     "output_type": "execute_result"
    }
   ],
   "source": [
    "gsv_kfold.best_params_"
   ]
  },
  {
   "cell_type": "markdown",
   "id": "5e393b52-cf43-4b28-b28b-dd2a9f713ffb",
   "metadata": {},
   "source": [
    "# Polynomial Regression"
   ]
  },
  {
   "cell_type": "code",
   "execution_count": 96,
   "id": "ec81671a-a2ba-4496-a029-36d8d48840c1",
   "metadata": {},
   "outputs": [],
   "source": [
    "from sklearn.preprocessing import PolynomialFeatures"
   ]
  },
  {
   "cell_type": "code",
   "execution_count": 103,
   "id": "f88aa5e4-4e90-48fb-8a75-5b57097945db",
   "metadata": {},
   "outputs": [
    {
     "name": "stdout",
     "output_type": "stream",
     "text": [
      "RMSE: 42.838252900683855\n",
      "R2: 0.47242349321394905\n"
     ]
    }
   ],
   "source": [
    "pf = PolynomialFeatures(degree = 2)\n",
    "xtrain_pf = pf.fit_transform(xtrain_data)\n",
    "xtest_pf = pf.transform(xtest_data)\n",
    "lr = LinearRegression()\n",
    "lr.fit(xtrain_pf, ytrain_data)\n",
    "ypred = lr.predict(xtest_pf)\n",
    "print('RMSE: ' + str(np.sqrt(mean_squared_error(ytest_data, ypred))))\n",
    "print('R2: ' + str(r2_score(ytest_data, ypred)))\n"
   ]
  },
  {
   "cell_type": "markdown",
   "id": "a5a418b6-d7ed-4ebf-a11e-d5adb0e7275a",
   "metadata": {},
   "source": [
    "# Random Forest"
   ]
  },
  {
   "cell_type": "code",
   "execution_count": 117,
   "id": "021b6698-1d15-4fdc-a6cb-7632ab0de4ce",
   "metadata": {},
   "outputs": [],
   "source": [
    "rf = RandomForestRegressor()"
   ]
  },
  {
   "cell_type": "code",
   "execution_count": 118,
   "id": "b7ca31f4-8a46-4282-9602-3c586262841b",
   "metadata": {},
   "outputs": [
    {
     "name": "stdout",
     "output_type": "stream",
     "text": [
      "RMSE: 47.3291893802016\n",
      "R2: 0.35600858233028776\n"
     ]
    }
   ],
   "source": [
    "rf.fit(xtrain_data, ytrain_data)\n",
    "ypred = rf.predict(xtest_data)\n",
    "print('RMSE: ' + str(np.sqrt(mean_squared_error(ytest_data, ypred))))\n",
    "print('R2: ' + str(r2_score(ytest_data, ypred)))"
   ]
  },
  {
   "cell_type": "code",
   "execution_count": null,
   "id": "aadf7930-7a5c-43cf-8b8e-a04dc3705e6b",
   "metadata": {},
   "outputs": [],
   "source": []
  }
 ],
 "metadata": {
  "kernelspec": {
   "display_name": "Python 3 (ipykernel)",
   "language": "python",
   "name": "python3"
  },
  "language_info": {
   "codemirror_mode": {
    "name": "ipython",
    "version": 3
   },
   "file_extension": ".py",
   "mimetype": "text/x-python",
   "name": "python",
   "nbconvert_exporter": "python",
   "pygments_lexer": "ipython3",
   "version": "3.11.7"
  }
 },
 "nbformat": 4,
 "nbformat_minor": 5
}
