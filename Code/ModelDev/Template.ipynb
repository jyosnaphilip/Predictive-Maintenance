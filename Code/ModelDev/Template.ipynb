{
 "cells": [
  {
   "cell_type": "code",
   "execution_count": 13,
   "id": "4fda718a-1b89-4a81-86bc-0867c35807cb",
   "metadata": {},
   "outputs": [],
   "source": [
    "import numpy as np\n",
    "import pandas as pd\n",
    "import warnings\n",
    "warnings.filterwarnings(\"ignore\")\n",
    "\n",
    "from sklearn.model_selection import GroupShuffleSplit\n",
    "from sklearn.linear_model import LinearRegression"
   ]
  },
  {
   "cell_type": "code",
   "execution_count": 17,
   "id": "b1142613-3702-40e6-9ddf-e3d0b064ee17",
   "metadata": {},
   "outputs": [],
   "source": [
    "xtrain_data = pd.read_csv(r'E:\\Nextstep\\PdM\\Predictive-Maintenance\\Datasets\\ForModelDev\\XTrain.csv')\n",
    "ytrain_data = pd.read_csv(r'E:\\Nextstep\\PdM\\Predictive-Maintenance\\Datasets\\ForModelDev\\YTrain.csv')\n",
    "engine_data = np.array(pd.read_csv(r'E:\\Nextstep\\PdM\\Predictive-Maintenance\\Datasets\\ForModelDev\\Engine.csv'))\n",
    "xtest_data = pd.read_csv(r'E:\\Nextstep\\PdM\\Predictive-Maintenance\\Datasets\\ForModelDev\\XTest.csv')\n",
    "ytest_data  = pd.read_csv(r'E:\\Nextstep\\PdM\\Predictive-Maintenance\\Datasets\\ForModelDev\\Ytest.csv')"
   ]
  },
  {
   "cell_type": "code",
   "execution_count": 15,
   "id": "8a877d94-904c-4c49-9a70-5eced1a121ab",
   "metadata": {},
   "outputs": [],
   "source": [
    "# Group Shuffle Split\n",
    "gss = GroupShuffleSplit(n_splits = 10, train_size = 0.7, random_state = 42) #n_splits refers to number of folds required"
   ]
  },
  {
   "cell_type": "code",
   "execution_count": 12,
   "id": "7b363414-40f4-4569-8866-15e854dd9365",
   "metadata": {},
   "outputs": [
    {
     "name": "stdout",
     "output_type": "stream",
     "text": [
      "Fold 0:\n",
      "  Train: index=[  192   193   194 ... 20628 20629 20630], group=[  2   3   4   6   7   8   9  12  14  15  17  18  20  21  22  24  25  26\n",
      "  28  29  30  33  35  36  37  38  39  42  44  47  48  49  50  51  52  53\n",
      "  55  57  58  59  60  61  62  63  64  65  66  67  68  69  72  75  76  79\n",
      "  80  82  83  85  86  87  88  90  92  93  94  95  96  98  99 100]\n",
      "  Test:  index=[    0     1     2 ... 20087 20088 20089], group=[ 1  5 10 11 13 16 19 23 27 31 32 34 40 41 43 45 46 54 56 70 71 73 74 77\n",
      " 78 81 84 89 91 97]\n",
      "Fold 1:\n",
      "  Train: index=[    0     1     2 ... 20428 20429 20430], group=[ 1  2  3  4  5  6  7  8  9 11 12 13 14 15 20 22 23 25 27 28 29 30 32 33\n",
      " 34 35 36 37 39 41 42 43 44 45 46 47 48 49 51 52 53 58 59 62 63 64 65 68\n",
      " 69 70 71 72 73 76 77 78 79 81 82 85 86 87 91 92 93 95 96 97 98 99]\n",
      "  Test:  index=[ 1914  1915  1916 ... 20628 20629 20630], group=[ 10  16  17  18  19  21  24  26  31  38  40  50  54  55  56  57  60  61\n",
      "  66  67  74  75  80  83  84  88  89  90  94 100]\n"
     ]
    }
   ],
   "source": [
    "for i, (train_index, val_index) in enumerate(gss.split(xtrain_data, ytrain_data, engine_data)):\n",
    "    print(f\"Fold {i}:\")\n",
    "    print(f\"  Train: index={train_index}, group={np.unique(engine_data[train_index])}\")\n",
    "    print(f\"  Test:  index={val_index}, group={np.unique(engine_data[val_index])}\")"
   ]
  },
  {
   "cell_type": "code",
   "execution_count": 16,
   "id": "800a18e8-c4f8-40e7-8068-714d26f7cd1f",
   "metadata": {},
   "outputs": [
    {
     "name": "stdout",
     "output_type": "stream",
     "text": [
      "0.7366604359082247\n",
      "0.6496003598278313\n",
      "0.7217408652489701\n",
      "0.7092219355126224\n",
      "0.68096513755019\n",
      "0.5910889544022819\n",
      "0.679657671506451\n",
      "0.6779066073658251\n",
      "0.5463572413619102\n",
      "0.6427425943947362\n"
     ]
    }
   ],
   "source": [
    "#KFold Test with Sample Linear Regression Model\n",
    "for i, (train_index, val_index) in enumerate(gss.split(xtrain_data, ytrain_data, engine_data)):\n",
    "    xtrain = xtrain_data.iloc[train_index, :] # Train Data from training set (70% split)\n",
    "    ytrain = ytrain_data.iloc[train_index, :]\n",
    "\n",
    "    xval = xtrain_data.iloc[val_index, :] # Validation Data from training set (30% split)\n",
    "    yval = ytrain_data.iloc[val_index, :]\n",
    "    \n",
    "    lr = LinearRegression()\n",
    "    lr.fit(xtrain, ytrain)\n",
    "    print(lr.score(xval, yval))"
   ]
  }
 ],
 "metadata": {
  "kernelspec": {
   "display_name": "Python 3 (ipykernel)",
   "language": "python",
   "name": "python3"
  },
  "language_info": {
   "codemirror_mode": {
    "name": "ipython",
    "version": 3
   },
   "file_extension": ".py",
   "mimetype": "text/x-python",
   "name": "python",
   "nbconvert_exporter": "python",
   "pygments_lexer": "ipython3",
   "version": "3.11.7"
  }
 },
 "nbformat": 4,
 "nbformat_minor": 5
}
