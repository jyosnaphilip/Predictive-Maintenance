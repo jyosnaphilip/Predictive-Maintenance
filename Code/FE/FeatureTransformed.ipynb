{
 "cells": [
  {
   "cell_type": "code",
   "execution_count": 12,
   "id": "4fda718a-1b89-4a81-86bc-0867c35807cb",
   "metadata": {},
   "outputs": [],
   "source": [
    "import numpy as np\n",
    "import pandas as pd\n",
    "import warnings\n",
    "warnings.filterwarnings(\"ignore\")\n",
    "\n",
    "from sklearn.preprocessing import StandardScaler\n",
    "from sklearn.decomposition import PCA"
   ]
  },
  {
   "cell_type": "code",
   "execution_count": 13,
   "id": "10d3f9d9-57a4-431a-b201-1fcadb4960ee",
   "metadata": {},
   "outputs": [],
   "source": [
    "def Transform_Scale_DS(raw_data, IsTrainingData):\n",
    "    df = raw_data.drop(['Sensor3', 'Sensor4', 'Sensor8','Sensor9', 'Sensor13', 'Sensor19', 'Sensor21', 'Sensor22'], axis=1)\n",
    "    df = df.drop(['Sensor1', 'Sensor2'], axis=1)\n",
    "    df = df.merge(df[['Engine', 'Cycles']].groupby('Engine').max(), on = 'Engine', how='left')\n",
    "    df = df.rename(columns={\"Cycles_x\": \"Cycles\", \"Cycles_y\": \"max_cycles\"})\n",
    "    \n",
    "    # Principal Component Extraction\n",
    "    pca, pcadf = PCA_Custom(df.iloc[:, 2:-2]) #Include only Sensor Data \n",
    "    pca_df = pd.DataFrame(pcadf)\n",
    "    df['PC1'] = pca_df.iloc[:, 0]\n",
    "    \n",
    "    # Exponential Moving Average transformation on sensor data\n",
    "    sens_df = df.drop(['Cycles', 'Remaining Cycles', 'max_cycles'], axis = 1)\n",
    "    sens_df = sens_df.groupby('Engine').transform(lambda x: x.ewm(10).mean())\n",
    "    sens_df.reset_index(inplace=True, drop = True)\n",
    "    \n",
    "    # Standard Scaling on features\n",
    "    ss = StandardScaler()\n",
    "    scaled_features = ss.fit_transform(sens_df)\n",
    "    scaled_features_df = pd.DataFrame(columns = sens_df.columns, data = scaled_features)\n",
    "    scaled_features_df['Cycles'] = df['Cycles']\n",
    "    scaled_features_df\n",
    "\n",
    "    # Write to CSV\n",
    "    if IsTrainingData:\n",
    "        scaled_features_df.to_csv('XTrain.csv', index = False)\n",
    "        df['Remaining Cycles'].to_csv('YTrain.csv', index = False)\n",
    "        df['Engine'].to_csv('Engine.csv', index = False)\n",
    "    else:\n",
    "        scaled_features_df.to_csv('XTest.csv', index = False)\n",
    "        df['Remaining Cycles'].to_csv('YTest.csv', index = False)    "
   ]
  },
  {
   "cell_type": "code",
   "execution_count": 3,
   "id": "a699269c-ef8d-4246-bb90-f4f6513a3845",
   "metadata": {},
   "outputs": [],
   "source": [
    "# Extract First Principal Component\n",
    "def PCA_Custom(local_df):\n",
    "    ss = StandardScaler()\n",
    "    ss.fit(local_df)\n",
    "    scaled_df = ss.transform(local_df)\n",
    "    \n",
    "    pca = PCA(n_components = 0.95)\n",
    "    pca.fit(scaled_df)\n",
    "    pca_df = pca.transform(scaled_df)\n",
    "    return pca, pca_df"
   ]
  },
  {
   "cell_type": "code",
   "execution_count": 14,
   "id": "4c04a692-4c86-4568-b054-36b5537e7e4c",
   "metadata": {},
   "outputs": [],
   "source": [
    "raw = pd.read_csv('E:\\\\NextStep\\\\PdM\\\\Predictive-Maintenance\\\\Datasets\\\\FullDataset\\\\train_FD001.csv')\n",
    "Transform_Scale_DS(raw, 1)"
   ]
  },
  {
   "cell_type": "code",
   "execution_count": 15,
   "id": "ef9fb4a6-b5a6-48a7-b2d0-a364aa85262b",
   "metadata": {},
   "outputs": [],
   "source": [
    "raw = pd.read_csv('E:\\\\NextStep\\\\PdM\\\\Predictive-Maintenance\\\\Datasets\\\\FullDataset\\\\test_FD001.csv')\n",
    "Transform_Scale_DS(raw, 0)"
   ]
  }
 ],
 "metadata": {
  "kernelspec": {
   "display_name": "Python 3 (ipykernel)",
   "language": "python",
   "name": "python3"
  },
  "language_info": {
   "codemirror_mode": {
    "name": "ipython",
    "version": 3
   },
   "file_extension": ".py",
   "mimetype": "text/x-python",
   "name": "python",
   "nbconvert_exporter": "python",
   "pygments_lexer": "ipython3",
   "version": "3.11.7"
  }
 },
 "nbformat": 4,
 "nbformat_minor": 5
}
